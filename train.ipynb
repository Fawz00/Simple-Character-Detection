{
 "cells": [
  {
   "cell_type": "code",
   "execution_count": 1,
   "metadata": {},
   "outputs": [],
   "source": [
    "import network\n",
    "import mnist_loader"
   ]
  },
  {
   "cell_type": "code",
   "execution_count": 2,
   "metadata": {},
   "outputs": [],
   "source": [
    "# create a network\n",
    "net = network.Network([784, 16, 16, 10])"
   ]
  },
  {
   "cell_type": "code",
   "execution_count": 3,
   "metadata": {},
   "outputs": [],
   "source": [
    "# load the data\n",
    "training_data, validation_data, test_data = mnist_loader.load_data_wrapper()"
   ]
  },
  {
   "cell_type": "code",
   "execution_count": 4,
   "metadata": {},
   "outputs": [
    {
     "name": "stdout",
     "output_type": "stream",
     "text": [
      "Epoch 0: 8926 / 10000\n",
      "Epoch 1: 9129 / 10000\n",
      "Epoch 2: 9205 / 10000\n",
      "Epoch 3: 9206 / 10000\n",
      "Epoch 4: 9188 / 10000\n",
      "Epoch 5: 9257 / 10000\n",
      "Epoch 6: 9231 / 10000\n",
      "Epoch 7: 9309 / 10000\n",
      "Epoch 8: 9347 / 10000\n",
      "Epoch 9: 9343 / 10000\n",
      "Epoch 10: 9267 / 10000\n",
      "Epoch 11: 9325 / 10000\n",
      "Epoch 12: 9288 / 10000\n",
      "Epoch 13: 9346 / 10000\n",
      "Epoch 14: 9360 / 10000\n",
      "Epoch 15: 9314 / 10000\n",
      "Epoch 16: 9273 / 10000\n",
      "Epoch 17: 9341 / 10000\n",
      "Epoch 18: 9294 / 10000\n",
      "Epoch 19: 9317 / 10000\n",
      "Epoch 20: 9344 / 10000\n",
      "Epoch 21: 9377 / 10000\n",
      "Epoch 22: 9378 / 10000\n",
      "Epoch 23: 9369 / 10000\n",
      "Epoch 24: 9344 / 10000\n",
      "Epoch 25: 9332 / 10000\n",
      "Epoch 26: 9347 / 10000\n",
      "Epoch 27: 9317 / 10000\n",
      "Epoch 28: 9376 / 10000\n",
      "Epoch 29: 9372 / 10000\n"
     ]
    }
   ],
   "source": [
    "# train the network\n",
    "net.train(training_data, epochs=30, mini_batch_size=10, eta=3.0, test_data=test_data)"
   ]
  },
  {
   "cell_type": "code",
   "execution_count": 5,
   "metadata": {},
   "outputs": [],
   "source": [
    "# Save the trained model\n",
    "net.save(\"trained_network.pkl\")"
   ]
  }
 ],
 "metadata": {
  "kernelspec": {
   "display_name": "Python 3",
   "language": "python",
   "name": "python3"
  },
  "language_info": {
   "codemirror_mode": {
    "name": "ipython",
    "version": 3
   },
   "file_extension": ".py",
   "mimetype": "text/x-python",
   "name": "python",
   "nbconvert_exporter": "python",
   "pygments_lexer": "ipython3",
   "version": "3.12.6"
  }
 },
 "nbformat": 4,
 "nbformat_minor": 4
}
